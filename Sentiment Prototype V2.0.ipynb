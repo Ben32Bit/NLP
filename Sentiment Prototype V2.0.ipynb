{
 "cells": [
  {
   "cell_type": "markdown",
   "metadata": {},
   "source": [
    "<a id = 'top'></a>\n",
    "Contents:\n",
    "\n",
    "<a href='#1'>Prediction Models for Acquirer</a> <br>\n",
    "<a href='#2'>Prediction Models for Acquired</a> <br>"
   ]
  },
  {
   "cell_type": "markdown",
   "metadata": {},
   "source": [
    "#### Document Processing"
   ]
  },
  {
   "cell_type": "code",
   "execution_count": 17,
   "metadata": {},
   "outputs": [],
   "source": [
    "import pandas as pd\n",
    "import numpy as np\n",
    "from matplotlib import pyplot as plt\n",
    "import re\n",
    "import nltk\n",
    "import re\n",
    "from contextlib import redirect_stdout\n",
    "from io import StringIO\n",
    "import random\n",
    "from nltk.corpus import stopwords\n",
    "\n",
    "#Data cleaning\n",
    "from sklearn.feature_extraction.text import CountVectorizer\n",
    "\n",
    "#loading and Saving\n",
    "import joblib"
   ]
  },
  {
   "cell_type": "code",
   "execution_count": 13,
   "metadata": {},
   "outputs": [],
   "source": [
    "def clean_text_pharmalist(text):   \n",
    "    # remove '\\n'\n",
    "    text = re.sub(\"\\n\", \" \", text) \n",
    "    # lowercase text\n",
    "    text = text.lower()\n",
    "    # remove special characters and replace with space\n",
    "    text = re.sub('[^0-9a-z\\-\\&]', ' ', text) \n",
    "    # remove extra spaces\n",
    "    text = [text for text in text.split()]\n",
    "    \n",
    "    return text"
   ]
  },
  {
   "cell_type": "code",
   "execution_count": 14,
   "metadata": {},
   "outputs": [],
   "source": [
    "companies = pd.read_csv(r'C:\\Users\\User\\Desktop\\GMGC Research\\Wyeth-Pfizer\\peercomparison.csv', encoding = 'utf-8')\n",
    "companies = companies['Company Name']\n",
    "companies = pd.Series.tolist(companies)\n",
    "companies = ' '.join(companies)\n",
    "companies = clean_text_pharmalist(companies)\n",
    "\n",
    "newlist = []\n",
    "for i in companies:\n",
    "    if i not in newlist:\n",
    "        newlist.append(i)\n",
    "\n",
    "companies = newlist"
   ]
  },
  {
   "cell_type": "code",
   "execution_count": 18,
   "metadata": {},
   "outputs": [],
   "source": [
    "stop_words_smodel = stopwords.words('english')\n",
    "\n",
    "for i in 'abcdefghijklmnopqrstuvwxyz':\n",
    "    stop_words_smodel.append(i)\n",
    "stop_words_smodel.extend(companies) \n",
    "stop_words_smodel.extend(['ii','inc','usa', 'llc', 'iii', 'ltd', 'corp', 'corporation','co', 'jr', 'wsj' ]) \n",
    "stop_words_smodel = list(stop_words_smodel)"
   ]
  },
  {
   "cell_type": "code",
   "execution_count": 15,
   "metadata": {},
   "outputs": [],
   "source": [
    "def clean_text_smodel(text):   \n",
    "    # remove '\\n' and lower case\n",
    "    text = re.sub(\"\\n\", ' ', text) \n",
    "    text = text.lower()\n",
    "    #remove extra spaces\n",
    "    # remove special characters and replace with space\n",
    "    text = re.sub('[^a-z\\-\\&]', ' ', text) \n",
    "    # remove extra spaces\n",
    "    text = [text for text in text.split()]\n",
    "    # remove stopwords (which includes single alphabeters)\n",
    "    text = ' '.join([w for w in text if not w in stop_words_smodel])\n",
    "    return text"
   ]
  },
  {
   "cell_type": "code",
   "execution_count": 24,
   "metadata": {},
   "outputs": [],
   "source": [
    "def doc_processor(file_dir):\n",
    "    \n",
    "    file = open(file_dir, encoding = 'utf-8', mode = 'r+', newline = '\\n')\n",
    "    text = file.read()\n",
    "    text = nltk.sent_tokenize(text)\n",
    "   \n",
    "    a = []\n",
    "    \n",
    "    for i in range(len(text)):\n",
    "         a.append(clean_text_smodel(text[i]))\n",
    "    text_final = a\n",
    "    \n",
    "    try:\n",
    "        text_final.remove('')\n",
    "    \n",
    "    except Exception:\n",
    "        pass\n",
    "    \n",
    "    return text_final\n",
    "    \n",
    "    "
   ]
  },
  {
   "cell_type": "code",
   "execution_count": 26,
   "metadata": {},
   "outputs": [],
   "source": [
    "test = doc_processor(r'C:\\Users\\User\\Desktop\\GMGC Research\\Wyeth-Pfizer\\Latest\\Test News\\BMY Announcement.txt')"
   ]
  },
  {
   "cell_type": "code",
   "execution_count": 85,
   "metadata": {},
   "outputs": [
    {
     "data": {
      "text/plain": [
       "['shareholders approve acquisition company nyse bmy today announced shareholders voted approve issuance shares common stock connection company pending merger nasdaq celg special meeting stockholders',\n",
       " 'pleased outcome today special meeting thank shareholders support combination said giovanni caforio chairman chief executive officer',\n",
       " 'together create premier innovative biopharma company leading scientific capabilities well positioned address needs patients high-value innovative',\n",
       " 'look forward bringing companies together believe deliver significant shareholder value shares voted special meeting voted favor merger agreement',\n",
       " 'file final vote results certified independent inspector election form -k securities exchange commission',\n",
       " 'transaction remains track close third quarter subject satisfaction customary closing conditions regulatory approvals']"
      ]
     },
     "execution_count": 85,
     "metadata": {},
     "output_type": "execute_result"
    }
   ],
   "source": [
    "test"
   ]
  },
  {
   "cell_type": "markdown",
   "metadata": {},
   "source": [
    "<a id = '1'></a>\n",
    "### Prediction models for Acquirer"
   ]
  },
  {
   "cell_type": "markdown",
   "metadata": {},
   "source": [
    "<a href='#top'>To Top</a> <br>\n"
   ]
  },
  {
   "cell_type": "markdown",
   "metadata": {},
   "source": [
    "#### Loading Files"
   ]
  },
  {
   "cell_type": "markdown",
   "metadata": {},
   "source": [
    "Acquirer"
   ]
  },
  {
   "cell_type": "code",
   "execution_count": 104,
   "metadata": {},
   "outputs": [],
   "source": [
    "import joblib\n",
    "svc_clf_aqr = joblib.load(r'C:\\Users\\User\\Desktop\\GMGC Research\\Sentiment Prototype v1.0\\Pickled files\\Acquirer\\svc_gs_clf_aqr.pkl')"
   ]
  },
  {
   "cell_type": "code",
   "execution_count": 105,
   "metadata": {},
   "outputs": [],
   "source": [
    "import joblib\n",
    "cnb_clf_aqr = joblib.load(r'C:\\Users\\User\\Desktop\\GMGC Research\\Sentiment Prototype v1.0\\Pickled files\\Acquirer\\cnb_gs_clf_aqr.pkl')\n"
   ]
  },
  {
   "cell_type": "code",
   "execution_count": 106,
   "metadata": {},
   "outputs": [],
   "source": [
    "import joblib\n",
    "sgd_clf_aqr = joblib.load(r'C:\\Users\\User\\Desktop\\GMGC Research\\Sentiment Prototype v1.0\\Pickled files\\Acquirer\\sgd_gs_clf_aqr.pkl')\n"
   ]
  },
  {
   "cell_type": "markdown",
   "metadata": {},
   "source": [
    "#### Support Vector Classifier"
   ]
  },
  {
   "cell_type": "code",
   "execution_count": 107,
   "metadata": {},
   "outputs": [],
   "source": [
    "def svc_predictor_aqr(test):\n",
    "\n",
    "    array = svc_clf_aqr.predict(test)\n",
    "    binary_array = []\n",
    "    for i in array:\n",
    "        if i == 'sell':\n",
    "            binary_array.append(-1)\n",
    "        else:\n",
    "            binary_array.append(1)\n",
    "    \n",
    "    sentiment = sum(binary_array)/len(array)\n",
    "    percentage = abs(sentiment) * 100\n",
    "    \n",
    "    if sentiment < 0:\n",
    "        print('Overall News Sentiment: Sell')\n",
    "        print('Percentage of News that supports sentiment:', percentage, '%')\n",
    "        \n",
    "    elif sentiment > 0:\n",
    "        print('Overall News Sentiment: Buy')\n",
    "        print('Percentage of News that supports sentiment:', percentage, '%')\n",
    "        \n",
    "    else:\n",
    "        print('This News article is Neutral or undetermined by this model')\n",
    "        \n",
    "    svc_parameters = {\n",
    "    'vect__max_df': (0.5, 0.75, 1.0),\n",
    "    'vect__max_features': (None, 5000, 10000, 50000),\n",
    "    'vect__ngram_range': ((1, 1), (1, 2), (1, 3)),  # unigrams or bigrams or trigrams\n",
    "    'tfidf__use_idf': (True, False),\n",
    "    'tfidf__norm': ('l1', 'l2'),\n",
    "    'svc_clf__tol': (1e-3, 1e-4, 1e-5),\n",
    "    'svc_clf__C': (5,6,7),\n",
    "    'svc_clf__penalty': ('l2', 'l1')\n",
    "    }\n",
    "    print(\"Best parameters set:\")\n",
    "    \n",
    "    svc_best_parameters = svc_clf_aqr.best_estimator_.get_params()\n",
    "    for param_name in sorted(svc_parameters.keys()):\n",
    "        print(\"\\t%s: %r\" % (param_name, svc_best_parameters[param_name]))\n",
    "    \n",
    "    \n",
    "    return \n",
    "            "
   ]
  },
  {
   "cell_type": "code",
   "execution_count": 108,
   "metadata": {},
   "outputs": [
    {
     "name": "stdout",
     "output_type": "stream",
     "text": [
      "Overall News Sentiment: Sell\n",
      "Percentage of News that supports sentiment: 100.0 %\n",
      "Best parameters set:\n",
      "\tsvc_clf__C: 5\n",
      "\tsvc_clf__penalty: 'l2'\n",
      "\tsvc_clf__tol: 0.0001\n",
      "\ttfidf__norm: 'l2'\n",
      "\ttfidf__use_idf: False\n",
      "\tvect__max_df: 0.5\n",
      "\tvect__max_features: None\n",
      "\tvect__ngram_range: (1, 2)\n"
     ]
    }
   ],
   "source": [
    "svc_predictor_aqr(['announced merger'])"
   ]
  },
  {
   "cell_type": "markdown",
   "metadata": {},
   "source": [
    "#### Compliment Naive Bayes"
   ]
  },
  {
   "cell_type": "code",
   "execution_count": 89,
   "metadata": {},
   "outputs": [],
   "source": [
    "def cnb_predictor_aqr(test):\n",
    "\n",
    "    array = cnb_clf_aqr.predict(test)\n",
    "    binary_array = []\n",
    "    for i in array:\n",
    "        if i == 'sell':\n",
    "            binary_array.append(-1)\n",
    "        else:\n",
    "            binary_array.append(1)\n",
    "    \n",
    "    sentiment = sum(binary_array)/len(array)\n",
    "    percentage = abs(sentiment) * 100\n",
    "    \n",
    "    if sentiment < 0:\n",
    "        print('Overall News Sentiment: Sell')\n",
    "        print('Percentage of News that supports sentiment:', percentage, '%')\n",
    "        \n",
    "    elif sentiment > 0:\n",
    "        print('Overall News Sentiment: Buy')\n",
    "        print('Percentage of News that supports sentiment:', percentage, '%')\n",
    "        \n",
    "    else:\n",
    "        print('This News article is Neutral or undetermined by this model')\n",
    "        \n",
    "    array_proba = cnb_clf.predict_proba(test)\n",
    "        \n",
    "    cnb_parameters = {\n",
    "    'vect__max_df': (0.5, 0.75, 1.0),\n",
    "    'vect__max_features': (None, 5000, 10000, 50000),\n",
    "    'vect__ngram_range': ((1, 1), (1, 2), (1, 3)),  # unigrams or bigrams or trigrams\n",
    "    'tfidf__use_idf': (True, False),\n",
    "    'tfidf__norm': ('l1', 'l2'),\n",
    "    'cnb_clf__alpha': (0.4, 0.3, 0.5, 0.6),\n",
    "    'cnb_clf__norm': (True,False),\n",
    "    }\n",
    "    print(\"Best parameters set:\")\n",
    "    \n",
    "    cnb_best_parameters = cnb_clf_aqr.best_estimator_.get_params()\n",
    "    for param_name in sorted(cnb_parameters.keys()):\n",
    "        print(\"\\t%s: %r\" % (param_name, cnb_best_parameters[param_name]))\n",
    "    \n",
    "    \n",
    "    return \n",
    "            "
   ]
  },
  {
   "cell_type": "code",
   "execution_count": 101,
   "metadata": {},
   "outputs": [
    {
     "name": "stdout",
     "output_type": "stream",
     "text": [
      "Overall News Sentiment: Sell\n",
      "Percentage of News that supports sentiment: 100.0 %\n",
      "Best parameters set:\n",
      "\tcnb_clf__alpha: 0.5\n",
      "\tcnb_clf__norm: True\n",
      "\ttfidf__norm: 'l2'\n",
      "\ttfidf__use_idf: True\n",
      "\tvect__max_df: 0.5\n",
      "\tvect__max_features: None\n",
      "\tvect__ngram_range: (1, 3)\n"
     ]
    }
   ],
   "source": [
    "cnb_predictor_aqr(test)"
   ]
  },
  {
   "cell_type": "markdown",
   "metadata": {},
   "source": [
    "#### Stochastic Gradient Descent"
   ]
  },
  {
   "cell_type": "code",
   "execution_count": 122,
   "metadata": {},
   "outputs": [],
   "source": [
    "def sgd_predictor_aqr(test):\n",
    "\n",
    "    array = sgd_clf_aqr.predict(test)\n",
    "    binary_array = []\n",
    "    for i in array:\n",
    "        if i == 'sell':\n",
    "            binary_array.append(-1)\n",
    "        else:\n",
    "            binary_array.append(1)\n",
    "    \n",
    "    sentiment = sum(binary_array)/len(array)\n",
    "    percentage = abs(sentiment) * 100\n",
    "    \n",
    "    if sentiment < 0:\n",
    "        print('Overall News Sentiment: Sell')\n",
    "        print('Percentage of News that supports sentiment:', percentage, '%')\n",
    "        \n",
    "    elif sentiment > 0:\n",
    "        print('Overall News Sentiment: Buy')\n",
    "        print('Percentage of News that supports sentiment:', percentage, '%')\n",
    "        \n",
    "    else:\n",
    "        print('This News article is Neutral or undetermined by this model')\n",
    "        \n",
    "    array_proba = cnb_clf.predict_proba(test)\n",
    "        \n",
    "    sgd_parameters = {\n",
    "    'vect__max_df': (0.5, 0.75, 1.0),\n",
    "    'vect__max_features': (None, 5000, 10000, 50000),\n",
    "    'vect__ngram_range': ((1, 1), (1, 2), (1, 3)),  # unigrams or bigrams or trigrams\n",
    "    'tfidf__use_idf': (True, False),\n",
    "    'tfidf__norm': ('l1', 'l2'),\n",
    "    'sgd_clf__alpha': (0.00001, 0.000001),\n",
    "    'sgd_clf__penalty': ('l2', 'elasticnet'),\n",
    "    }\n",
    "    print(\"Best parameters set:\")\n",
    "    \n",
    "    sgd_best_parameters = sgd_clf_aqr.best_estimator_.get_params()\n",
    "    for param_name in sorted(sgd_parameters.keys()):\n",
    "        print(\"\\t%s: %r\" % (param_name, sgd_best_parameters[param_name]))\n",
    "    \n",
    "    \n",
    "    return \n",
    "            "
   ]
  },
  {
   "cell_type": "code",
   "execution_count": 123,
   "metadata": {},
   "outputs": [
    {
     "name": "stdout",
     "output_type": "stream",
     "text": [
      "Overall News Sentiment: Sell\n",
      "Percentage of News that supports sentiment: 100.0 %\n",
      "Best parameters set:\n",
      "\tsgd_clf__alpha: 1e-05\n",
      "\tsgd_clf__penalty: 'elasticnet'\n",
      "\ttfidf__norm: 'l2'\n",
      "\ttfidf__use_idf: True\n",
      "\tvect__max_df: 0.5\n",
      "\tvect__max_features: None\n",
      "\tvect__ngram_range: (1, 3)\n"
     ]
    }
   ],
   "source": [
    "sgd_predictor_aqr(test)"
   ]
  },
  {
   "cell_type": "markdown",
   "metadata": {},
   "source": [
    "<a id = '2'></a>\n",
    "### Prediction models for Acquired"
   ]
  },
  {
   "cell_type": "markdown",
   "metadata": {},
   "source": [
    "<a href='#top'>To Top</a> <br>\n"
   ]
  },
  {
   "cell_type": "markdown",
   "metadata": {},
   "source": [
    "Acquired"
   ]
  },
  {
   "cell_type": "code",
   "execution_count": 126,
   "metadata": {},
   "outputs": [],
   "source": [
    "import joblib\n",
    "svc_clf_aqd = joblib.load(r'C:\\Users\\User\\Desktop\\GMGC Research\\Sentiment Prototype v1.0\\Pickled files\\Acquired\\svc_gs_clf_aqd.pkl')"
   ]
  },
  {
   "cell_type": "code",
   "execution_count": 127,
   "metadata": {},
   "outputs": [],
   "source": [
    "import joblib\n",
    "sgd_clf_aqd = joblib.load(r'C:\\Users\\User\\Desktop\\GMGC Research\\Sentiment Prototype v1.0\\Pickled files\\Acquired\\sgd_gs_clf_aqd.pkl')"
   ]
  },
  {
   "cell_type": "code",
   "execution_count": 128,
   "metadata": {},
   "outputs": [],
   "source": [
    "import joblib\n",
    "cnb_clf_aqd = joblib.load(r'C:\\Users\\User\\Desktop\\GMGC Research\\Sentiment Prototype v1.0\\Pickled files\\Acquired\\cnb_gs_clf_aqd.pkl')"
   ]
  },
  {
   "cell_type": "markdown",
   "metadata": {},
   "source": [
    "#### Support Vector Classifer"
   ]
  },
  {
   "cell_type": "code",
   "execution_count": 139,
   "metadata": {},
   "outputs": [],
   "source": [
    "def svc_predictor_aqd(test):\n",
    "\n",
    "    array = svc_clf_aqd.predict(test)\n",
    "    binary_array = []\n",
    "    for i in array:\n",
    "        if i == 'sell':\n",
    "            binary_array.append(-1)\n",
    "        else:\n",
    "            binary_array.append(1)\n",
    "    \n",
    "    sentiment = sum(binary_array)/len(array)\n",
    "    percentage = abs(sentiment) * 100\n",
    "    \n",
    "    if sentiment < 0:\n",
    "        print('Overall News Sentiment: Sell')\n",
    "        print('Percentage of News that supports sentiment:', percentage, '%')\n",
    "        \n",
    "    elif sentiment > 0:\n",
    "        print('Overall News Sentiment: Buy')\n",
    "        print('Percentage of News that supports sentiment:', percentage, '%')\n",
    "        \n",
    "    else:\n",
    "        print('This News article is Neutral or undetermined by this model')\n",
    "        \n",
    "    svc_parameters = {\n",
    "    'vect__max_df': (0.5, 0.75, 1.0),\n",
    "    'vect__max_features': (None, 5000, 10000, 50000),\n",
    "    'vect__ngram_range': ((1, 1), (1, 2), (1, 3)),  # unigrams or bigrams or trigrams\n",
    "    'tfidf__use_idf': (True, False),\n",
    "    'tfidf__norm': ('l1', 'l2'),\n",
    "    'svc_clf__tol': (1e-3, 1e-4, 1e-5),\n",
    "    'svc_clf__C': (5,6,7),\n",
    "    'svc_clf__penalty': ('l2', 'l1')\n",
    "    }\n",
    "    print(\"Best parameters set:\")\n",
    "    \n",
    "    svc_best_parameters = svc_clf_aqd.best_estimator_.get_params()\n",
    "    for param_name in sorted(svc_parameters.keys()):\n",
    "        print(\"\\t%s: %r\" % (param_name, svc_best_parameters[param_name]))\n",
    "    \n",
    "    \n",
    "    return             "
   ]
  },
  {
   "cell_type": "code",
   "execution_count": 140,
   "metadata": {},
   "outputs": [
    {
     "name": "stdout",
     "output_type": "stream",
     "text": [
      "Overall News Sentiment: Buy\n",
      "Percentage of News that supports sentiment: 100.0 %\n",
      "Best parameters set:\n",
      "\tsvc_clf__C: 5\n",
      "\tsvc_clf__penalty: 'l2'\n",
      "\tsvc_clf__tol: 0.0001\n",
      "\ttfidf__norm: 'l1'\n",
      "\ttfidf__use_idf: True\n",
      "\tvect__max_df: 0.5\n",
      "\tvect__max_features: None\n",
      "\tvect__ngram_range: (1, 3)\n"
     ]
    }
   ],
   "source": [
    "svc_predictor_aqd(test)"
   ]
  },
  {
   "cell_type": "markdown",
   "metadata": {},
   "source": [
    "#### Complement Naive Bayesian"
   ]
  },
  {
   "cell_type": "code",
   "execution_count": 141,
   "metadata": {},
   "outputs": [],
   "source": [
    "def cnb_predictor_aqd(test):\n",
    "\n",
    "    array = cnb_clf_aqd.predict(test)\n",
    "    binary_array = []\n",
    "    for i in array:\n",
    "        if i == 'sell':\n",
    "            binary_array.append(-1)\n",
    "        else:\n",
    "            binary_array.append(1)\n",
    "    \n",
    "    sentiment = sum(binary_array)/len(array)\n",
    "    percentage = abs(sentiment) * 100\n",
    "    \n",
    "    if sentiment < 0:\n",
    "        print('Overall News Sentiment: Sell')\n",
    "        print('Percentage of News that supports sentiment:', percentage, '%')\n",
    "        \n",
    "    elif sentiment > 0:\n",
    "        print('Overall News Sentiment: Buy')\n",
    "        print('Percentage of News that supports sentiment:', percentage, '%')\n",
    "        \n",
    "    else:\n",
    "        print('This News article is Neutral or undetermined by this model')\n",
    "        \n",
    "    cnb_parameters = {\n",
    "    'vect__max_df': (0.5, 0.75, 1.0),\n",
    "    'vect__max_features': (None, 5000, 10000, 50000),\n",
    "    'vect__ngram_range': ((1, 1), (1, 2), (1, 3)),  # unigrams or bigrams or trigrams\n",
    "    'tfidf__use_idf': (True, False),\n",
    "    'tfidf__norm': ('l1', 'l2'),\n",
    "    'cnb_clf__alpha': (0.4, 0.3, 0.5, 0.6),\n",
    "    'cnb_clf__norm': (True,False),\n",
    "    }\n",
    "    \n",
    "    print(\"Best parameters set:\")\n",
    "    \n",
    "    cnb_best_parameters = cnb_clf_aqd.best_estimator_.get_params()\n",
    "    for param_name in sorted(cnb_parameters.keys()):\n",
    "        print(\"\\t%s: %r\" % (param_name, cnb_best_parameters[param_name]))\n",
    "    \n",
    "    \n",
    "    return             "
   ]
  },
  {
   "cell_type": "code",
   "execution_count": 142,
   "metadata": {},
   "outputs": [
    {
     "name": "stdout",
     "output_type": "stream",
     "text": [
      "Overall News Sentiment: Buy\n",
      "Percentage of News that supports sentiment: 100.0 %\n",
      "Best parameters set:\n",
      "\tcnb_clf__alpha: 0.5\n",
      "\tcnb_clf__norm: True\n",
      "\ttfidf__norm: 'l1'\n",
      "\ttfidf__use_idf: False\n",
      "\tvect__max_df: 0.5\n",
      "\tvect__max_features: 50000\n",
      "\tvect__ngram_range: (1, 3)\n"
     ]
    }
   ],
   "source": [
    "cnb_predictor_aqd(test)"
   ]
  },
  {
   "cell_type": "markdown",
   "metadata": {},
   "source": [
    "#### Stochastic Gradient Descent"
   ]
  },
  {
   "cell_type": "code",
   "execution_count": 143,
   "metadata": {},
   "outputs": [],
   "source": [
    "def sgd_predictor_aqd(test):\n",
    "\n",
    "    array = sgd_clf_aqd.predict(test)\n",
    "    binary_array = []\n",
    "    for i in array:\n",
    "        if i == 'sell':\n",
    "            binary_array.append(-1)\n",
    "        else:\n",
    "            binary_array.append(1)\n",
    "    \n",
    "    sentiment = sum(binary_array)/len(array)\n",
    "    percentage = abs(sentiment) * 100\n",
    "    \n",
    "    if sentiment < 0:\n",
    "        print('Overall News Sentiment: Sell')\n",
    "        print('Percentage of News that supports sentiment:', percentage, '%')\n",
    "        \n",
    "    elif sentiment > 0:\n",
    "        print('Overall News Sentiment: Buy')\n",
    "        print('Percentage of News that supports sentiment:', percentage, '%')\n",
    "        \n",
    "    else:\n",
    "        print('This News article is Neutral or undetermined by this model')\n",
    "        \n",
    "    sgd_parameters = {\n",
    "    'vect__max_df': (0.5, 0.75, 1.0),\n",
    "    'vect__max_features': (None, 5000, 10000, 50000),\n",
    "    'vect__ngram_range': ((1, 1), (1, 2), (1, 3)),  # unigrams or bigrams or trigrams\n",
    "    'tfidf__use_idf': (True, False),\n",
    "    'tfidf__norm': ('l1', 'l2'),\n",
    "    'sgd_clf__alpha': (0.00001, 0.000001),\n",
    "    'sgd_clf__penalty': ('l2', 'elasticnet'),\n",
    "    }\n",
    "    \n",
    "    print(\"Best parameters set:\")\n",
    "    \n",
    "    sgd_best_parameters = sgd_clf_aqd.best_estimator_.get_params()\n",
    "    for param_name in sorted(sgd_parameters.keys()):\n",
    "        print(\"\\t%s: %r\" % (param_name, sgd_best_parameters[param_name]))\n",
    "    \n",
    "    \n",
    "    return             "
   ]
  },
  {
   "cell_type": "code",
   "execution_count": 144,
   "metadata": {},
   "outputs": [
    {
     "name": "stdout",
     "output_type": "stream",
     "text": [
      "Overall News Sentiment: Buy\n",
      "Percentage of News that supports sentiment: 66.66666666666666 %\n",
      "Best parameters set:\n",
      "\tsgd_clf__alpha: 1e-05\n",
      "\tsgd_clf__penalty: 'elasticnet'\n",
      "\ttfidf__norm: 'l2'\n",
      "\ttfidf__use_idf: True\n",
      "\tvect__max_df: 0.5\n",
      "\tvect__max_features: None\n",
      "\tvect__ngram_range: (1, 3)\n"
     ]
    }
   ],
   "source": [
    "sgd_predictor_aqd(test)"
   ]
  }
 ],
 "metadata": {
  "kernelspec": {
   "display_name": "Python 3",
   "language": "python",
   "name": "python3"
  },
  "language_info": {
   "codemirror_mode": {
    "name": "ipython",
    "version": 3
   },
   "file_extension": ".py",
   "mimetype": "text/x-python",
   "name": "python",
   "nbconvert_exporter": "python",
   "pygments_lexer": "ipython3",
   "version": "3.6.5"
  }
 },
 "nbformat": 4,
 "nbformat_minor": 2
}
